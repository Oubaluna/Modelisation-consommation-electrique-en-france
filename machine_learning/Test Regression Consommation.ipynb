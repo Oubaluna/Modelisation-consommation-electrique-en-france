{
 "cells": [
  {
   "cell_type": "markdown",
   "id": "fc6bf6b8-cb72-44bc-94dd-6634c20e48e0",
   "metadata": {},
   "source": [
    "# Test de modelisation pour prédire la Consommation\n",
    "\n",
    "Nous allons essayer de tester des modèles de regression afin de prédire la consommation : \n",
    "- La regression simple\n",
    "- La regression multiple"
   ]
  },
  {
   "cell_type": "code",
   "execution_count": 1,
   "id": "5d1f8f68-f7f2-44e6-856e-c88a14add5a1",
   "metadata": {},
   "outputs": [],
   "source": [
    "import numpy as np\n",
    "import pandas as pd\n",
    "import datetime\n",
    "import matplotlib.pyplot as plt\n",
    "from sklearn.model_selection import GridSearchCV, train_test_split, cross_val_score, cross_validate\n",
    "\n",
    "from sklearn.preprocessing import MinMaxScaler\n",
    "from sklearn.linear_model import LinearRegression\n",
    "\n",
    "\n",
    "\n",
    "FILE_PATH_METEO = 'data_meteo_prod.csv'"
   ]
  },
  {
   "cell_type": "code",
   "execution_count": 2,
   "id": "cbad9a20-9236-4024-a878-0db0c70f9767",
   "metadata": {},
   "outputs": [
    {
     "name": "stdout",
     "output_type": "stream",
     "text": [
      "<class 'pandas.core.frame.DataFrame'>\n",
      "RangeIndex: 30671 entries, 0 to 30670\n",
      "Data columns (total 26 columns):\n",
      " #   Column                                      Non-Null Count  Dtype         \n",
      "---  ------                                      --------------  -----         \n",
      " 0   region                                      30671 non-null  object        \n",
      " 1   rafales_sur_une_periode                     30671 non-null  float64       \n",
      " 2   variation_de_pression_en_3_heures           30671 non-null  float64       \n",
      " 3   precipitations_dans_les_3_dernieres_heures  30671 non-null  float64       \n",
      " 4   regioncode                                  30671 non-null  float64       \n",
      " 5   pression_station                            30671 non-null  float64       \n",
      " 6   pression_au_niveau_mer                      30671 non-null  float64       \n",
      " 7   direction_du_vent_moyen                     30671 non-null  float64       \n",
      " 8   vitesse_du_vent_moyen                       30671 non-null  float64       \n",
      " 9   humidite                                    30671 non-null  float64       \n",
      " 10  point_de_rosee                              30671 non-null  float64       \n",
      " 11  temperature_c                               30671 non-null  float64       \n",
      " 12  latitude                                    30671 non-null  float64       \n",
      " 13  longitude                                   30671 non-null  float64       \n",
      " 14  altitude                                    30671 non-null  float64       \n",
      " 15  date                                        30671 non-null  datetime64[ns]\n",
      " 16  consommation_mw                             30671 non-null  float64       \n",
      " 17  thermique_mw                                30671 non-null  float64       \n",
      " 18  nucleaire_mw                                30671 non-null  float64       \n",
      " 19  eolien_mw                                   30671 non-null  float64       \n",
      " 20  solaire_mw                                  30671 non-null  float64       \n",
      " 21  hydraulique_mw                              30671 non-null  float64       \n",
      " 22  pompage_mw                                  30671 non-null  float64       \n",
      " 23  bioenergies_mw                              30671 non-null  float64       \n",
      " 24  ech._physiques_mw                           30671 non-null  float64       \n",
      " 25  prod_totale                                 30671 non-null  float64       \n",
      "dtypes: datetime64[ns](1), float64(24), object(1)\n",
      "memory usage: 6.1+ MB\n"
     ]
    }
   ],
   "source": [
    "df_meteo = pd.read_csv(FILE_PATH_METEO, sep=',')\n",
    "df_meteo['date'] =  pd.to_datetime(df_meteo['date'])\n",
    "df_meteo.info()"
   ]
  },
  {
   "cell_type": "markdown",
   "id": "604b8467-9e55-4659-bdc1-28414bafd644",
   "metadata": {},
   "source": [
    "**En nous basant sur la heatmap, nous supprimons des features quelques variables inutiles pour notre test ou des variables pouvant biaiser le test**"
   ]
  },
  {
   "cell_type": "code",
   "execution_count": 3,
   "id": "2892b84e-9766-4cbe-97d1-757aa022d448",
   "metadata": {},
   "outputs": [
    {
     "name": "stdout",
     "output_type": "stream",
     "text": [
      "<class 'pandas.core.frame.DataFrame'>\n",
      "RangeIndex: 30671 entries, 0 to 30670\n",
      "Data columns (total 12 columns):\n",
      " #   Column                                      Non-Null Count  Dtype         \n",
      "---  ------                                      --------------  -----         \n",
      " 0   rafales_sur_une_periode                     30671 non-null  float64       \n",
      " 1   variation_de_pression_en_3_heures           30671 non-null  float64       \n",
      " 2   precipitations_dans_les_3_dernieres_heures  30671 non-null  float64       \n",
      " 3   pression_station                            30671 non-null  float64       \n",
      " 4   pression_au_niveau_mer                      30671 non-null  float64       \n",
      " 5   direction_du_vent_moyen                     30671 non-null  float64       \n",
      " 6   vitesse_du_vent_moyen                       30671 non-null  float64       \n",
      " 7   humidite                                    30671 non-null  float64       \n",
      " 8   point_de_rosee                              30671 non-null  float64       \n",
      " 9   temperature_c                               30671 non-null  float64       \n",
      " 10  date                                        30671 non-null  datetime64[ns]\n",
      " 11  bioenergies_mw                              30671 non-null  float64       \n",
      "dtypes: datetime64[ns](1), float64(11)\n",
      "memory usage: 2.8 MB\n"
     ]
    }
   ],
   "source": [
    "features = df_meteo.drop(['consommation_mw', 'latitude', 'prod_totale', 'longitude', 'altitude', 'regioncode', 'region',\n",
    "                        'thermique_mw', 'eolien_mw', 'solaire_mw', 'nucleaire_mw', 'pompage_mw', 'ech._physiques_mw', 'hydraulique_mw',\n",
    "                         ], axis=1)\n",
    "features.info()"
   ]
  },
  {
   "cell_type": "markdown",
   "id": "83ad2393-2deb-4344-8d96-d7d6fc07034e",
   "metadata": {},
   "source": [
    "**Définition de la target pour notre recherche :**"
   ]
  },
  {
   "cell_type": "code",
   "execution_count": 4,
   "id": "71b916fe-4215-46b8-96c3-de4cb5bca1bd",
   "metadata": {},
   "outputs": [],
   "source": [
    "features_simple = df_meteo[['bioenergies_mw']]\n",
    "target = df_meteo[['consommation_mw','date']]\n",
    "target2 = df_meteo['consommation_mw']"
   ]
  },
  {
   "cell_type": "markdown",
   "id": "f2fa79cc-8c46-49e6-af2e-d75196fcbde9",
   "metadata": {},
   "source": [
    "**Vérification linéarité entre conso et bioenergies**"
   ]
  },
  {
   "cell_type": "code",
   "execution_count": 5,
   "id": "39cb2c8e-6308-407a-b665-397f5ef6fd97",
   "metadata": {},
   "outputs": [
    {
     "data": {
      "text/plain": [
       "<matplotlib.collections.PathCollection at 0x24014bb6640>"
      ]
     },
     "execution_count": 5,
     "metadata": {},
     "output_type": "execute_result"
    },
    {
     "data": {
      "image/png": "[encoded data removed]",
      "text/plain": [
       "<Figure size 504x504 with 1 Axes>"
      ]
     },
     "metadata": {
      "needs_background": "light"
     },
     "output_type": "display_data"
    }
   ],
   "source": [
    "plt.figure(figsize=(7,7))\n",
    "\n",
    "plt.scatter(df_meteo['bioenergies_mw'], df_meteo['consommation_mw'], color='darkblue')"
   ]
  },
  {
   "cell_type": "code",
   "execution_count": 6,
   "id": "e9123dbf-9c0b-49d0-8aaa-5e34a2fff178",
   "metadata": {},
   "outputs": [
    {
     "name": "stdout",
     "output_type": "stream",
     "text": [
      "99470.85247252959\n",
      "[30.68831938]\n"
     ]
    }
   ],
   "source": [
    "slr = LinearRegression()\n",
    "slr.fit(features_simple, target2)\n",
    "print(slr.intercept_)\n",
    "print(slr.coef_)"
   ]
  },
  {
   "cell_type": "markdown",
   "id": "809a24fb-026c-47f8-8436-c385c34c250d",
   "metadata": {},
   "source": [
    "Ici le modèle peut se modélise de cette façon :  consommation =99470+30.688∗bioenergie"
   ]
  },
  {
   "cell_type": "code",
   "execution_count": 7,
   "id": "b6ff5c77-c37f-4064-bd42-0f2a5982abb7",
   "metadata": {},
   "outputs": [
    {
     "data": {
      "text/plain": [
       "0.3779312520014018"
      ]
     },
     "execution_count": 7,
     "metadata": {},
     "output_type": "execute_result"
    }
   ],
   "source": [
    "cross_validate(slr, features_simple, target2, return_train_score=True, cv=4)\n",
    "cross_validate(slr, features_simple, target2, return_train_score=True, cv=4)['test_score'].mean()"
   ]
  },
  {
   "cell_type": "markdown",
   "id": "6410abb2-37eb-42e1-9756-811ed30894c9",
   "metadata": {},
   "source": [
    "Le modèle linéaire simple n'est pas performant avec l'utilisation de la variable la plus corrélé. La production du bioenergie n'explique que 37.7% de la variance de la conso.\n",
    "\n",
    "### Essayons un modèle de regression multiple :"
   ]
  },
  {
   "cell_type": "code",
   "execution_count": 8,
   "id": "22c3194e-c39e-4b9f-a234-92ce20e842cd",
   "metadata": {},
   "outputs": [
    {
     "name": "stdout",
     "output_type": "stream",
     "text": [
      "Coefficient de détermination du modèle : 0.5879295131726485\n",
      "Coefficient de détermination obtenu par Cv : 0.5682028310195036\n"
     ]
    },
    {
     "name": "stderr",
     "output_type": "stream",
     "text": [
      "<ipython-input-8-650f7188cb7d>:3: SettingWithCopyWarning: \n",
      "A value is trying to be set on a copy of a slice from a DataFrame.\n",
      "Try using .loc[row_indexer,col_indexer] = value instead\n",
      "\n",
      "See the caveats in the documentation: https://pandas.pydata.org/pandas-docs/stable/user_guide/indexing.html#returning-a-view-versus-a-copy\n",
      "  target['year'] = target['date'].dt.year\n"
     ]
    }
   ],
   "source": [
    "#Séparation des dataframes en test et train : \n",
    "features['year'] = features['date'].dt.year\n",
    "target['year'] = target['date'].dt.year\n",
    "\n",
    "X_train = features[features['year'] != 2019].drop(['year', 'date'], axis = 1) \n",
    "X_test = features[features['year'] == 2019].drop(['year', 'date'], axis = 1) \n",
    "y_train = target[target['year'] != 2019].drop(['year', 'date'], axis = 1) \n",
    "y_test = target[target['year'] == 2019].drop(['year', 'date'], axis = 1) \n",
    "\n",
    "#instanciation du modèle : \n",
    "lr = LinearRegression()\n",
    "\n",
    "#entrainement du modèle : \n",
    "lr.fit(X_train, y_train)\n",
    "\n",
    "#Affichage du R2 et du R2 par Crossvalidation\n",
    "print('Coefficient de détermination du modèle :', lr.score(X_train, y_train))\n",
    "print('Coefficient de détermination obtenu par Cv :', cross_val_score(lr,X_train,y_train).mean())"
   ]
  },
  {
   "cell_type": "markdown",
   "id": "bc41254a-c7dc-4f1a-aea7-4204c5229f67",
   "metadata": {},
   "source": [
    "Le modèle n'est efficace qu'à 56%. Il convient de tester d'autre modèle, notamment le modèle sarima en utilisant les données temporelles pour essayer d'obtenir une meilleur visibilité de la consommation. Par ailleurs, nous avons conserver la production de bioenergie pour prédire la conso, ce qui biaise notre analyse. Sans la bioenergie, donc que la météo, nous obtenons un score de 0.20. Ce qui est très faible. "
   ]
  }
 ],
 "metadata": {
  "kernelspec": {
   "display_name": "Python 3",
   "language": "python",
   "name": "python3"
  },
  "language_info": {
   "codemirror_mode": {
    "name": "ipython",
    "version": 3
   },
   "file_extension": ".py",
   "mimetype": "text/x-python",
   "name": "python",
   "nbconvert_exporter": "python",
   "pygments_lexer": "ipython3",
   "version": "3.8.8"
  }
 },
 "nbformat": 4,
 "nbformat_minor": 5
}
