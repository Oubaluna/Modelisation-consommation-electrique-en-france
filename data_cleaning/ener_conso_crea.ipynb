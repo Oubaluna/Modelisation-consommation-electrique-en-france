{
 "cells": [
  {
   "cell_type": "code",
   "execution_count": 51,
   "id": "7e9c25ff-c79b-4f11-b94d-af4f9e6447c2",
   "metadata": {},
   "outputs": [],
   "source": [
    "import pandas as pd\n",
    "import numpy as np\n",
    "import matplotlib.pyplot as plt\n",
    "import statsmodels.api as sm\n",
    "\n",
    "FILEPATH = 'data_clean.csv'"
   ]
  },
  {
   "cell_type": "code",
   "execution_count": 56,
   "id": "01083320-2d4d-4903-9877-296f91f2082f",
   "metadata": {},
   "outputs": [],
   "source": [
    "df = pd.read_csv(FILEPATH)\n",
    "df = df.groupby('date_heure', as_index=False).sum()\n",
    "df = df[['date_heure', 'consommation_mw']]\n",
    "df.to_csv('C:\\\\Users\\\\Nouz\\\\Desktop\\\\DATASCIENTEST\\\\Projet Energie\\\\ener_conso_full.csv',index=False)"
   ]
  }
 ],
 "metadata": {
  "kernelspec": {
   "display_name": "Python 3",
   "language": "python",
   "name": "python3"
  },
  "language_info": {
   "codemirror_mode": {
    "name": "ipython",
    "version": 3
   },
   "file_extension": ".py",
   "mimetype": "text/x-python",
   "name": "python",
   "nbconvert_exporter": "python",
   "pygments_lexer": "ipython3",
   "version": "3.8.8"
  }
 },
 "nbformat": 4,
 "nbformat_minor": 5
}
